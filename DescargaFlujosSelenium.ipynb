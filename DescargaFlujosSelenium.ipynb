{
 "cells": [
  {
   "cell_type": "markdown",
   "metadata": {},
   "source": [
    "Path que se debe descargar para que se ejecute Firefox\n",
    "\n",
    "https://github.com/mozilla/geckodriver/releases\n",
    "\n",
    "\n",
    "Tambien puede utilizarse en Chrome, descargando el siguiente Path (Al momento es sólo compatible hasta la version 94.0.4606.41)\n",
    "\n",
    "https://sites.google.com/a/chromium.org/chromedriver/downloads\n",
    "\n"
   ]
  },
  {
   "cell_type": "code",
   "execution_count": 1,
   "metadata": {},
   "outputs": [],
   "source": [
    "#importar librerías\n",
    "from selenium import webdriver\n",
    "import time\n",
    "\n",
    "#Ejecutar Path que será quien abre nuestro navegador\n",
    "driver = webdriver.Firefox(executable_path=r\"C:\\Users\\salve\\OneDrive\\Escritorio\\geckodriver.exe\")\n",
    "\n",
    "#Indicar la página a la que se quiere ingresar\n",
    "driver.get('https://data.buenosaires.gob.ar/dataset/flujo-vehicular-por-unidades-de-peaje-ausa')\n",
    "time.sleep(1)\n",
    "\n",
    "# Para que el siguente código funcione: Buscamos en la Web el botón de descaga > click botón derecho > inspeccionar > a lo que se seleccione en gris volvemos a hacerle boton derecho > Copy > Full Xpath\n",
    "downloadfile= driver.find_element_by_xpath('/html/body/div[1]/div/div/div/div[1]/div[3]/div[9]/div/a')\n",
    "\n",
    "downloadfile.click()\n",
    "\n",
    "#Repetimos según cantidad de descargas diferentes necesitemos segun botones haya\n",
    "downloadfile= driver.find_element_by_xpath('/html/body/div[1]/div/div/div/div[1]/div[3]/div[7]/div/a')\n",
    "\n",
    "downloadfile.click()\n",
    "downloadfile= driver.find_element_by_xpath('/html/body/div[1]/div/div/div/div[1]/div[3]/div[5]/div/a')\n",
    "\n",
    "downloadfile.click()\n",
    "time.sleep(1)\n",
    "\n",
    "#Cerramos el navegador\n",
    "driver.quit()\n",
    "\n"
   ]
  }
 ],
 "metadata": {
  "kernelspec": {
   "display_name": "Python 3.6.10 ('MiEntorno')",
   "language": "python",
   "name": "python3"
  },
  "language_info": {
   "codemirror_mode": {
    "name": "ipython",
    "version": 3
   },
   "file_extension": ".py",
   "mimetype": "text/x-python",
   "name": "python",
   "nbconvert_exporter": "python",
   "pygments_lexer": "ipython3",
   "version": "3.6.10"
  },
  "orig_nbformat": 4,
  "vscode": {
   "interpreter": {
    "hash": "188016d4b86868e3d8b6b57dc2680946c00744806a0abd9b07681b8fa5b555e6"
   }
  }
 },
 "nbformat": 4,
 "nbformat_minor": 2
}
